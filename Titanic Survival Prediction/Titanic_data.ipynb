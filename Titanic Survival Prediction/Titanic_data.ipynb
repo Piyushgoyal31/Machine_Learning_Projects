{
 "cells": [
  {
   "cell_type": "code",
   "execution_count": 1,
   "id": "109fc5b6",
   "metadata": {},
   "outputs": [],
   "source": [
    "import numpy as np\n",
    "import pandas as pd\n",
    "import matplotlib.pyplot as plt\n",
    "import seaborn as sns"
   ]
  },
  {
   "cell_type": "code",
   "execution_count": 2,
   "id": "fa19e13a",
   "metadata": {},
   "outputs": [
    {
     "ename": "FileNotFoundError",
     "evalue": "[Errno 2] No such file or directory: 'C:/Users/piyus/Data_Science/Lecture_30/train.csv'",
     "output_type": "error",
     "traceback": [
      "\u001b[1;31m---------------------------------------------------------------------------\u001b[0m",
      "\u001b[1;31mFileNotFoundError\u001b[0m                         Traceback (most recent call last)",
      "Cell \u001b[1;32mIn[2], line 1\u001b[0m\n\u001b[1;32m----> 1\u001b[0m train_df \u001b[38;5;241m=\u001b[39m pd\u001b[38;5;241m.\u001b[39mread_csv(\u001b[38;5;124m\"\u001b[39m\u001b[38;5;124mC:/Users/piyus/Data_Science/Lecture_30/train.csv\u001b[39m\u001b[38;5;124m\"\u001b[39m)\n",
      "File \u001b[1;32m~\\anaconda3\\Lib\\site-packages\\pandas\\io\\parsers\\readers.py:912\u001b[0m, in \u001b[0;36mread_csv\u001b[1;34m(filepath_or_buffer, sep, delimiter, header, names, index_col, usecols, dtype, engine, converters, true_values, false_values, skipinitialspace, skiprows, skipfooter, nrows, na_values, keep_default_na, na_filter, verbose, skip_blank_lines, parse_dates, infer_datetime_format, keep_date_col, date_parser, date_format, dayfirst, cache_dates, iterator, chunksize, compression, thousands, decimal, lineterminator, quotechar, quoting, doublequote, escapechar, comment, encoding, encoding_errors, dialect, on_bad_lines, delim_whitespace, low_memory, memory_map, float_precision, storage_options, dtype_backend)\u001b[0m\n\u001b[0;32m    899\u001b[0m kwds_defaults \u001b[38;5;241m=\u001b[39m _refine_defaults_read(\n\u001b[0;32m    900\u001b[0m     dialect,\n\u001b[0;32m    901\u001b[0m     delimiter,\n\u001b[1;32m   (...)\u001b[0m\n\u001b[0;32m    908\u001b[0m     dtype_backend\u001b[38;5;241m=\u001b[39mdtype_backend,\n\u001b[0;32m    909\u001b[0m )\n\u001b[0;32m    910\u001b[0m kwds\u001b[38;5;241m.\u001b[39mupdate(kwds_defaults)\n\u001b[1;32m--> 912\u001b[0m \u001b[38;5;28;01mreturn\u001b[39;00m _read(filepath_or_buffer, kwds)\n",
      "File \u001b[1;32m~\\anaconda3\\Lib\\site-packages\\pandas\\io\\parsers\\readers.py:577\u001b[0m, in \u001b[0;36m_read\u001b[1;34m(filepath_or_buffer, kwds)\u001b[0m\n\u001b[0;32m    574\u001b[0m _validate_names(kwds\u001b[38;5;241m.\u001b[39mget(\u001b[38;5;124m\"\u001b[39m\u001b[38;5;124mnames\u001b[39m\u001b[38;5;124m\"\u001b[39m, \u001b[38;5;28;01mNone\u001b[39;00m))\n\u001b[0;32m    576\u001b[0m \u001b[38;5;66;03m# Create the parser.\u001b[39;00m\n\u001b[1;32m--> 577\u001b[0m parser \u001b[38;5;241m=\u001b[39m TextFileReader(filepath_or_buffer, \u001b[38;5;241m*\u001b[39m\u001b[38;5;241m*\u001b[39mkwds)\n\u001b[0;32m    579\u001b[0m \u001b[38;5;28;01mif\u001b[39;00m chunksize \u001b[38;5;129;01mor\u001b[39;00m iterator:\n\u001b[0;32m    580\u001b[0m     \u001b[38;5;28;01mreturn\u001b[39;00m parser\n",
      "File \u001b[1;32m~\\anaconda3\\Lib\\site-packages\\pandas\\io\\parsers\\readers.py:1407\u001b[0m, in \u001b[0;36mTextFileReader.__init__\u001b[1;34m(self, f, engine, **kwds)\u001b[0m\n\u001b[0;32m   1404\u001b[0m     \u001b[38;5;28mself\u001b[39m\u001b[38;5;241m.\u001b[39moptions[\u001b[38;5;124m\"\u001b[39m\u001b[38;5;124mhas_index_names\u001b[39m\u001b[38;5;124m\"\u001b[39m] \u001b[38;5;241m=\u001b[39m kwds[\u001b[38;5;124m\"\u001b[39m\u001b[38;5;124mhas_index_names\u001b[39m\u001b[38;5;124m\"\u001b[39m]\n\u001b[0;32m   1406\u001b[0m \u001b[38;5;28mself\u001b[39m\u001b[38;5;241m.\u001b[39mhandles: IOHandles \u001b[38;5;241m|\u001b[39m \u001b[38;5;28;01mNone\u001b[39;00m \u001b[38;5;241m=\u001b[39m \u001b[38;5;28;01mNone\u001b[39;00m\n\u001b[1;32m-> 1407\u001b[0m \u001b[38;5;28mself\u001b[39m\u001b[38;5;241m.\u001b[39m_engine \u001b[38;5;241m=\u001b[39m \u001b[38;5;28mself\u001b[39m\u001b[38;5;241m.\u001b[39m_make_engine(f, \u001b[38;5;28mself\u001b[39m\u001b[38;5;241m.\u001b[39mengine)\n",
      "File \u001b[1;32m~\\anaconda3\\Lib\\site-packages\\pandas\\io\\parsers\\readers.py:1661\u001b[0m, in \u001b[0;36mTextFileReader._make_engine\u001b[1;34m(self, f, engine)\u001b[0m\n\u001b[0;32m   1659\u001b[0m     \u001b[38;5;28;01mif\u001b[39;00m \u001b[38;5;124m\"\u001b[39m\u001b[38;5;124mb\u001b[39m\u001b[38;5;124m\"\u001b[39m \u001b[38;5;129;01mnot\u001b[39;00m \u001b[38;5;129;01min\u001b[39;00m mode:\n\u001b[0;32m   1660\u001b[0m         mode \u001b[38;5;241m+\u001b[39m\u001b[38;5;241m=\u001b[39m \u001b[38;5;124m\"\u001b[39m\u001b[38;5;124mb\u001b[39m\u001b[38;5;124m\"\u001b[39m\n\u001b[1;32m-> 1661\u001b[0m \u001b[38;5;28mself\u001b[39m\u001b[38;5;241m.\u001b[39mhandles \u001b[38;5;241m=\u001b[39m get_handle(\n\u001b[0;32m   1662\u001b[0m     f,\n\u001b[0;32m   1663\u001b[0m     mode,\n\u001b[0;32m   1664\u001b[0m     encoding\u001b[38;5;241m=\u001b[39m\u001b[38;5;28mself\u001b[39m\u001b[38;5;241m.\u001b[39moptions\u001b[38;5;241m.\u001b[39mget(\u001b[38;5;124m\"\u001b[39m\u001b[38;5;124mencoding\u001b[39m\u001b[38;5;124m\"\u001b[39m, \u001b[38;5;28;01mNone\u001b[39;00m),\n\u001b[0;32m   1665\u001b[0m     compression\u001b[38;5;241m=\u001b[39m\u001b[38;5;28mself\u001b[39m\u001b[38;5;241m.\u001b[39moptions\u001b[38;5;241m.\u001b[39mget(\u001b[38;5;124m\"\u001b[39m\u001b[38;5;124mcompression\u001b[39m\u001b[38;5;124m\"\u001b[39m, \u001b[38;5;28;01mNone\u001b[39;00m),\n\u001b[0;32m   1666\u001b[0m     memory_map\u001b[38;5;241m=\u001b[39m\u001b[38;5;28mself\u001b[39m\u001b[38;5;241m.\u001b[39moptions\u001b[38;5;241m.\u001b[39mget(\u001b[38;5;124m\"\u001b[39m\u001b[38;5;124mmemory_map\u001b[39m\u001b[38;5;124m\"\u001b[39m, \u001b[38;5;28;01mFalse\u001b[39;00m),\n\u001b[0;32m   1667\u001b[0m     is_text\u001b[38;5;241m=\u001b[39mis_text,\n\u001b[0;32m   1668\u001b[0m     errors\u001b[38;5;241m=\u001b[39m\u001b[38;5;28mself\u001b[39m\u001b[38;5;241m.\u001b[39moptions\u001b[38;5;241m.\u001b[39mget(\u001b[38;5;124m\"\u001b[39m\u001b[38;5;124mencoding_errors\u001b[39m\u001b[38;5;124m\"\u001b[39m, \u001b[38;5;124m\"\u001b[39m\u001b[38;5;124mstrict\u001b[39m\u001b[38;5;124m\"\u001b[39m),\n\u001b[0;32m   1669\u001b[0m     storage_options\u001b[38;5;241m=\u001b[39m\u001b[38;5;28mself\u001b[39m\u001b[38;5;241m.\u001b[39moptions\u001b[38;5;241m.\u001b[39mget(\u001b[38;5;124m\"\u001b[39m\u001b[38;5;124mstorage_options\u001b[39m\u001b[38;5;124m\"\u001b[39m, \u001b[38;5;28;01mNone\u001b[39;00m),\n\u001b[0;32m   1670\u001b[0m )\n\u001b[0;32m   1671\u001b[0m \u001b[38;5;28;01massert\u001b[39;00m \u001b[38;5;28mself\u001b[39m\u001b[38;5;241m.\u001b[39mhandles \u001b[38;5;129;01mis\u001b[39;00m \u001b[38;5;129;01mnot\u001b[39;00m \u001b[38;5;28;01mNone\u001b[39;00m\n\u001b[0;32m   1672\u001b[0m f \u001b[38;5;241m=\u001b[39m \u001b[38;5;28mself\u001b[39m\u001b[38;5;241m.\u001b[39mhandles\u001b[38;5;241m.\u001b[39mhandle\n",
      "File \u001b[1;32m~\\anaconda3\\Lib\\site-packages\\pandas\\io\\common.py:859\u001b[0m, in \u001b[0;36mget_handle\u001b[1;34m(path_or_buf, mode, encoding, compression, memory_map, is_text, errors, storage_options)\u001b[0m\n\u001b[0;32m    854\u001b[0m \u001b[38;5;28;01melif\u001b[39;00m \u001b[38;5;28misinstance\u001b[39m(handle, \u001b[38;5;28mstr\u001b[39m):\n\u001b[0;32m    855\u001b[0m     \u001b[38;5;66;03m# Check whether the filename is to be opened in binary mode.\u001b[39;00m\n\u001b[0;32m    856\u001b[0m     \u001b[38;5;66;03m# Binary mode does not support 'encoding' and 'newline'.\u001b[39;00m\n\u001b[0;32m    857\u001b[0m     \u001b[38;5;28;01mif\u001b[39;00m ioargs\u001b[38;5;241m.\u001b[39mencoding \u001b[38;5;129;01mand\u001b[39;00m \u001b[38;5;124m\"\u001b[39m\u001b[38;5;124mb\u001b[39m\u001b[38;5;124m\"\u001b[39m \u001b[38;5;129;01mnot\u001b[39;00m \u001b[38;5;129;01min\u001b[39;00m ioargs\u001b[38;5;241m.\u001b[39mmode:\n\u001b[0;32m    858\u001b[0m         \u001b[38;5;66;03m# Encoding\u001b[39;00m\n\u001b[1;32m--> 859\u001b[0m         handle \u001b[38;5;241m=\u001b[39m \u001b[38;5;28mopen\u001b[39m(\n\u001b[0;32m    860\u001b[0m             handle,\n\u001b[0;32m    861\u001b[0m             ioargs\u001b[38;5;241m.\u001b[39mmode,\n\u001b[0;32m    862\u001b[0m             encoding\u001b[38;5;241m=\u001b[39mioargs\u001b[38;5;241m.\u001b[39mencoding,\n\u001b[0;32m    863\u001b[0m             errors\u001b[38;5;241m=\u001b[39merrors,\n\u001b[0;32m    864\u001b[0m             newline\u001b[38;5;241m=\u001b[39m\u001b[38;5;124m\"\u001b[39m\u001b[38;5;124m\"\u001b[39m,\n\u001b[0;32m    865\u001b[0m         )\n\u001b[0;32m    866\u001b[0m     \u001b[38;5;28;01melse\u001b[39;00m:\n\u001b[0;32m    867\u001b[0m         \u001b[38;5;66;03m# Binary mode\u001b[39;00m\n\u001b[0;32m    868\u001b[0m         handle \u001b[38;5;241m=\u001b[39m \u001b[38;5;28mopen\u001b[39m(handle, ioargs\u001b[38;5;241m.\u001b[39mmode)\n",
      "\u001b[1;31mFileNotFoundError\u001b[0m: [Errno 2] No such file or directory: 'C:/Users/piyus/Data_Science/Lecture_30/train.csv'"
     ]
    }
   ],
   "source": [
    "train_df = pd.read_csv(\"C:/Users/piyus/Data_Science/Lecture_30/train.csv\")"
   ]
  },
  {
   "cell_type": "code",
   "execution_count": null,
   "id": "16ad8e1c",
   "metadata": {},
   "outputs": [],
   "source": [
    "train_df"
   ]
  },
  {
   "cell_type": "markdown",
   "id": "fb9bcf13",
   "metadata": {},
   "source": [
    "# Analysing Missing Data"
   ]
  },
  {
   "cell_type": "code",
   "execution_count": null,
   "id": "9f12b416",
   "metadata": {},
   "outputs": [],
   "source": [
    "train_df.isnull().sum()\n",
    "#used to check inconsistency in data\n",
    "#here we can see 177 values from age is missing"
   ]
  },
  {
   "cell_type": "code",
   "execution_count": null,
   "id": "4b10b35a",
   "metadata": {},
   "outputs": [],
   "source": [
    "ax = train_df[\"Age\"].hist(bins = 50,color = 'red' , alpha = 0.5)\n",
    "#alpha means translucency"
   ]
  },
  {
   "cell_type": "code",
   "execution_count": null,
   "id": "6f9585dc",
   "metadata": {},
   "outputs": [],
   "source": [
    "ax = train_df[\"Age\"].hist(bins = 50,density = True ,color = 'yellow')\n",
    "train_df[\"Age\"].plot( kind = 'density' , color = 'blue')"
   ]
  },
  {
   "cell_type": "code",
   "execution_count": null,
   "id": "f543b15b",
   "metadata": {},
   "outputs": [],
   "source": [
    "print(train_df['Embarked'].value_counts())\n",
    "sns.countplot(x = 'Embarked' , data = train_df)"
   ]
  },
  {
   "cell_type": "code",
   "execution_count": null,
   "id": "cd65f569",
   "metadata": {},
   "outputs": [],
   "source": [
    "train_data = train_df.copy()"
   ]
  },
  {
   "cell_type": "markdown",
   "id": "d601ed02",
   "metadata": {},
   "source": [
    "# Handling Missing Data"
   ]
  },
  {
   "cell_type": "code",
   "execution_count": null,
   "id": "3f6ba25a",
   "metadata": {},
   "outputs": [],
   "source": [
    "train_data['Age'].fillna(train_df['Age'].median(),inplace = True)\n",
    "#inplace is used to do changes on the same address , if not given true then it creates a copy nd then do the changes"
   ]
  },
  {
   "cell_type": "code",
   "execution_count": null,
   "id": "c4d87c2d",
   "metadata": {},
   "outputs": [],
   "source": [
    "train_df.Embarked.value_counts().idxmax()"
   ]
  },
  {
   "cell_type": "code",
   "execution_count": null,
   "id": "156c86f5",
   "metadata": {},
   "outputs": [],
   "source": [
    "train_data['Embarked'].fillna(train_df.Embarked.value_counts().idxmax() ,inplace = True)\n",
    "train_data.drop('Cabin' ,axis = 1, inplace = True)\n",
    "#we dropped Cabin coz only about 20 percent of data was available and we cant recreate the remaining data from this given data"
   ]
  },
  {
   "cell_type": "code",
   "execution_count": null,
   "id": "eaa32bdb",
   "metadata": {},
   "outputs": [],
   "source": [
    "train_data.isnull().sum()"
   ]
  },
  {
   "cell_type": "markdown",
   "id": "73cf5e97",
   "metadata": {},
   "source": [
    "# Data Analysis and Visualization"
   ]
  },
  {
   "cell_type": "code",
   "execution_count": null,
   "id": "bbd85507",
   "metadata": {},
   "outputs": [],
   "source": [
    "plt.figure(figsize = (15,8)) #used to define the size of graph\n",
    "ax = train_df[\"Age\"].hist(bins = 20,density = True ,color = 'red' , alpha = 0.5)\n",
    "train_df[\"Age\"].plot( kind = 'density' , color = 'blue')\n",
    "ax = train_data[\"Age\"].hist(bins = 20,density = True ,color = 'yellow' , alpha = 0.5)\n",
    "train_data[\"Age\"].plot( kind = 'density' , color = 'green')\n",
    "plt.xlim(-20,90)\n",
    "ax.legend(['Age before' , 'Age after'])"
   ]
  },
  {
   "cell_type": "code",
   "execution_count": null,
   "id": "856dc5f9",
   "metadata": {},
   "outputs": [],
   "source": [
    "train_data"
   ]
  },
  {
   "cell_type": "code",
   "execution_count": null,
   "id": "cb2cabe0",
   "metadata": {},
   "outputs": [],
   "source": [
    "train_data = pd.get_dummies(train_data , columns = ['Sex' , 'Embarked'])\n",
    "#get dummies jo bhi columns do unko unique values pr tod deta h"
   ]
  },
  {
   "cell_type": "code",
   "execution_count": null,
   "id": "f089ebc9",
   "metadata": {},
   "outputs": [],
   "source": [
    "train_data.drop('PassengerId' , axis = 1,inplace = True)\n",
    "train_data.drop('Name' , axis = 1,inplace = True)\n",
    "train_data.drop('Ticket' , axis = 1,inplace = True)"
   ]
  },
  {
   "cell_type": "code",
   "execution_count": null,
   "id": "1158fba8",
   "metadata": {},
   "outputs": [],
   "source": [
    "train_data"
   ]
  },
  {
   "cell_type": "code",
   "execution_count": null,
   "id": "c74f4da7",
   "metadata": {},
   "outputs": [],
   "source": [
    "train_data['Sex_female'] = np.where(train_data['Sex_female'] == True , 1,0)\n",
    "train_data['Sex_male'] = np.where(train_data['Sex_male'] == True , 1,0)\n",
    "train_data['Embarked_C'] = np.where(train_data['Embarked_C'] == True , 1,0)\n",
    "train_data['Embarked_Q'] = np.where(train_data['Embarked_Q'] == True , 1,0)\n",
    "train_data['Embarked_S'] = np.where(train_data['Embarked_S'] == True , 1,0)"
   ]
  },
  {
   "cell_type": "code",
   "execution_count": null,
   "id": "cec656cd",
   "metadata": {},
   "outputs": [],
   "source": [
    "train_data"
   ]
  },
  {
   "cell_type": "code",
   "execution_count": null,
   "id": "8a49c2eb",
   "metadata": {},
   "outputs": [],
   "source": [
    "ax = sns.kdeplot(train_data['Age'][train_data.Survived == 1] , color = 'green' , shade = True)  #kdeplot is used for continous plot\n",
    "ax = sns.kdeplot(train_data['Age'][train_data.Survived == 0] , color = 'red' , shade = True)\n",
    "plt.legend(['Survived' , 'Dead'])\n",
    "plt.xlim(-10,90)"
   ]
  },
  {
   "cell_type": "code",
   "execution_count": null,
   "id": "5c39e00d",
   "metadata": {},
   "outputs": [],
   "source": [
    "ax = sns.kdeplot(train_data['Fare'][train_data.Survived == 1] , color = 'green' , shade = True)  #kdeplot is used for continous plot\n",
    "ax = sns.kdeplot(train_data['Fare'][train_data.Survived == 0] , color = 'red' , shade = True)\n",
    "plt.legend(['Survived' , 'Dead'])\n",
    "plt.xlim(-100,200)"
   ]
  },
  {
   "cell_type": "code",
   "execution_count": null,
   "id": "f0b15f65",
   "metadata": {},
   "outputs": [],
   "source": [
    "sns.barplot(x = 'Pclass' , y = 'Survived' , data= train_data)"
   ]
  },
  {
   "cell_type": "code",
   "execution_count": null,
   "id": "d3dc8fe3",
   "metadata": {},
   "outputs": [],
   "source": [
    "sns.barplot(x = 'Embarked' , y = 'Survived' , data= train_df)"
   ]
  },
  {
   "cell_type": "code",
   "execution_count": null,
   "id": "0c0c8c40",
   "metadata": {},
   "outputs": [],
   "source": [
    "sns.barplot(x = 'SibSp' , y = 'Survived' , data= train_df)"
   ]
  },
  {
   "cell_type": "code",
   "execution_count": null,
   "id": "84c571ca",
   "metadata": {},
   "outputs": [],
   "source": [
    "sns.barplot(x = 'Parch' , y = 'Survived' , data= train_df)"
   ]
  },
  {
   "cell_type": "code",
   "execution_count": null,
   "id": "4530b5fc",
   "metadata": {},
   "outputs": [],
   "source": [
    "sns.barplot(x = 'Sex' , y = 'Survived' , data= train_df)"
   ]
  },
  {
   "cell_type": "code",
   "execution_count": null,
   "id": "eb7a600a",
   "metadata": {},
   "outputs": [],
   "source": [
    "train_data['Travel_Alone'] = np.where((train_data['SibSp'] + train_data['Parch']) >0 ,0 , 1)"
   ]
  },
  {
   "cell_type": "code",
   "execution_count": null,
   "id": "a90118c5",
   "metadata": {},
   "outputs": [],
   "source": [
    "train_data.drop('SibSp' , axis = 1, inplace = True)\n",
    "train_data.drop('Parch' , axis = 1, inplace = True)"
   ]
  },
  {
   "cell_type": "code",
   "execution_count": null,
   "id": "05d2d390",
   "metadata": {},
   "outputs": [],
   "source": [
    "sns.barplot(x = 'Travel_Alone' , y = 'Survived' , data= train_data)"
   ]
  },
  {
   "cell_type": "code",
   "execution_count": null,
   "id": "3f9f7821",
   "metadata": {},
   "outputs": [],
   "source": [
    "plt.figure(figsize = (12,12))\n",
    "sns.heatmap(train_data.corr() ,annot=True)"
   ]
  },
  {
   "cell_type": "code",
   "execution_count": null,
   "id": "1d42bf55",
   "metadata": {},
   "outputs": [],
   "source": [
    "train_data"
   ]
  },
  {
   "cell_type": "markdown",
   "id": "6bf5052b",
   "metadata": {},
   "source": [
    "# Model Training"
   ]
  },
  {
   "cell_type": "code",
   "execution_count": null,
   "id": "df36c471",
   "metadata": {},
   "outputs": [],
   "source": [
    "cols_model = [ 'Pclass', 'Age' ,'Fare' , 'Sex_female' , 'Sex_male' , 'Embarked_C' , 'Embarked_Q' , 'Embarked_S' , 'Travel_Alone']\n",
    "train_X = train_data[cols_model]\n",
    "train_Y = train_data[\"Survived\"]"
   ]
  },
  {
   "cell_type": "code",
   "execution_count": null,
   "id": "f4364406",
   "metadata": {},
   "outputs": [],
   "source": [
    "print(type(train_X) , type(train_Y))\n",
    "train_X = train_X.values\n",
    "train_Y = train_Y.values\n",
    "print(type(train_X) , type(train_Y))"
   ]
  },
  {
   "cell_type": "code",
   "execution_count": null,
   "id": "f3adb053",
   "metadata": {},
   "outputs": [],
   "source": [
    "split = 0.9\n",
    "X_train = train_X[:int(split*train_X.shape[0]),:]\n",
    "Y_train = train_Y[:int(split*train_Y.shape[0])]\n",
    "X_test = train_X[int(split*train_X.shape[0]):,:]\n",
    "Y_test = train_Y[int(split*train_Y.shape[0]):]"
   ]
  },
  {
   "cell_type": "code",
   "execution_count": null,
   "id": "689bea35",
   "metadata": {},
   "outputs": [],
   "source": [
    "print(X_train.shape, Y_train.shape,X_test.shape,Y_test.shape)"
   ]
  },
  {
   "cell_type": "code",
   "execution_count": null,
   "id": "c8fe94d4",
   "metadata": {},
   "outputs": [],
   "source": [
    "ones = np.ones((X_train.shape[0],1))\n",
    "X_train = np.hstack((ones,X_train))\n",
    "ones = np.ones((X_test.shape[0],1))\n",
    "X_test = np.hstack((ones,X_test))"
   ]
  },
  {
   "cell_type": "code",
   "execution_count": null,
   "id": "1c13edec",
   "metadata": {},
   "outputs": [],
   "source": [
    "print(X_train.shape, Y_train.shape,X_test.shape,Y_test.shape)"
   ]
  },
  {
   "cell_type": "code",
   "execution_count": null,
   "id": "fce2f76c",
   "metadata": {},
   "outputs": [],
   "source": [
    "def sigmoid(X):\n",
    "    return 1/(1+np.exp(-X))"
   ]
  },
  {
   "cell_type": "code",
   "execution_count": null,
   "id": "1d410793",
   "metadata": {},
   "outputs": [],
   "source": [
    "def hypothesis(X,weights):\n",
    "    return sigmoid(np.dot(X,weights))"
   ]
  },
  {
   "cell_type": "code",
   "execution_count": null,
   "id": "9a0d7611",
   "metadata": {},
   "outputs": [],
   "source": [
    "def loss(X,Y,weights):\n",
    "    pred = hypothesis(X,weights)\n",
    "    loss = np.mean(Y* np.log(pred) + (1-Y)*np.log(1-pred))\n",
    "    return -1*loss"
   ]
  },
  {
   "cell_type": "code",
   "execution_count": null,
   "id": "e5df1b58",
   "metadata": {},
   "outputs": [],
   "source": [
    "def gradient(X,Y,weights):\n",
    "    pred = hypothesis(X,weights)\n",
    "    grad = np.dot(X.T,(Y-pred))\n",
    "    return grad/X.shape[0]"
   ]
  },
  {
   "cell_type": "code",
   "execution_count": null,
   "id": "f837d649",
   "metadata": {},
   "outputs": [],
   "source": [
    "def gradient_descent(X,Y):\n",
    "    weights = np.zeros((X.shape[1],))\n",
    "    epochs = 100000\n",
    "    lr_rate = 0.003\n",
    "    list_loss = []\n",
    "    \n",
    "    for i in range(epochs):\n",
    "        grad = gradient(X,Y,weights)\n",
    "        list_loss.append(loss(X,Y,weights))\n",
    "        weights = weights + (lr_rate*grad)\n",
    "    return weights,list_loss"
   ]
  },
  {
   "cell_type": "code",
   "execution_count": null,
   "id": "8a76dea4",
   "metadata": {},
   "outputs": [],
   "source": [
    "weights , list_loss = gradient_descent(X_train,Y_train)"
   ]
  },
  {
   "cell_type": "markdown",
   "id": "6bf7fb04",
   "metadata": {},
   "source": [
    "# Loss Visualization"
   ]
  },
  {
   "cell_type": "code",
   "execution_count": null,
   "id": "ce6fa68f",
   "metadata": {},
   "outputs": [],
   "source": [
    "list_loss[-1]"
   ]
  },
  {
   "cell_type": "code",
   "execution_count": null,
   "id": "96864c6b",
   "metadata": {},
   "outputs": [],
   "source": [
    "plt.plot(list_loss)"
   ]
  },
  {
   "cell_type": "code",
   "execution_count": null,
   "id": "08d496aa",
   "metadata": {},
   "outputs": [],
   "source": [
    "weights"
   ]
  },
  {
   "cell_type": "markdown",
   "id": "50f79e6d",
   "metadata": {},
   "source": [
    "# Model Testing"
   ]
  },
  {
   "cell_type": "code",
   "execution_count": null,
   "id": "c9229021",
   "metadata": {},
   "outputs": [],
   "source": [
    "pred = []\n",
    "\n",
    "for i in range(X_test.shape[0]):\n",
    "    y_hat = hypothesis(X_test[i],weights)\n",
    "    print(y_hat , Y_test[i])\n",
    "    if (y_hat > 0.5):\n",
    "        pred.append(1)\n",
    "    else:\n",
    "        pred.append(0)"
   ]
  },
  {
   "cell_type": "code",
   "execution_count": null,
   "id": "a3a34f79",
   "metadata": {},
   "outputs": [],
   "source": [
    "for i in range(Y_test.shape[0]):\n",
    "    print(pred[i] , '  ' , Y_test[i])"
   ]
  },
  {
   "cell_type": "markdown",
   "id": "bfb57521",
   "metadata": {},
   "source": [
    "# Calculating Accuracy"
   ]
  },
  {
   "cell_type": "code",
   "execution_count": null,
   "id": "2749c368",
   "metadata": {},
   "outputs": [],
   "source": [
    "correct = 0\n",
    "for i in range(Y_test.shape[0]):\n",
    "    if(pred[i] == Y_test[i]):\n",
    "        correct += 1\n",
    "print(correct/Y_test.shape[0])"
   ]
  },
  {
   "cell_type": "code",
   "execution_count": null,
   "id": "8b032be1",
   "metadata": {},
   "outputs": [],
   "source": []
  },
  {
   "cell_type": "code",
   "execution_count": null,
   "id": "ab6e60c5",
   "metadata": {},
   "outputs": [],
   "source": []
  }
 ],
 "metadata": {
  "kernelspec": {
   "display_name": "Python 3 (ipykernel)",
   "language": "python",
   "name": "python3"
  },
  "language_info": {
   "codemirror_mode": {
    "name": "ipython",
    "version": 3
   },
   "file_extension": ".py",
   "mimetype": "text/x-python",
   "name": "python",
   "nbconvert_exporter": "python",
   "pygments_lexer": "ipython3",
   "version": "3.11.5"
  }
 },
 "nbformat": 4,
 "nbformat_minor": 5
}
